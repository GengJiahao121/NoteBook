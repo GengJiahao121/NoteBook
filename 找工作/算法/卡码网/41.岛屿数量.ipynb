{
 "cells": [
  {
   "cell_type": "markdown",
   "metadata": {},
   "source": [
    "### [41.岛屿数量](https://kamacoder.com/problem.php?id=1041)"
   ]
  },
  {
   "cell_type": "code",
   "execution_count": 11,
   "metadata": {},
   "outputs": [
    {
     "ename": "NameError",
     "evalue": "name 'land_number' is not defined",
     "output_type": "error",
     "traceback": [
      "\u001b[0;31m---------------------------------------------------------------------------\u001b[0m",
      "\u001b[0;31mNameError\u001b[0m                                 Traceback (most recent call last)",
      "Cell \u001b[0;32mIn[11], line 71\u001b[0m\n\u001b[1;32m     68\u001b[0m     point \u001b[39m=\u001b[39m [\u001b[39mint\u001b[39m(x) \u001b[39mfor\u001b[39;00m x \u001b[39min\u001b[39;00m \u001b[39minput\u001b[39m()\u001b[39m.\u001b[39msplit(\u001b[39m'\u001b[39m\u001b[39m \u001b[39m\u001b[39m'\u001b[39m)]\n\u001b[1;32m     69\u001b[0m     points\u001b[39m.\u001b[39mappend(point)\n\u001b[0;32m---> 71\u001b[0m computeIsland(m, n, k, points)\n",
      "Cell \u001b[0;32mIn[11], line 54\u001b[0m, in \u001b[0;36mcomputeIsland\u001b[0;34m(m, n, k, points)\u001b[0m\n\u001b[1;32m     52\u001b[0m visited[x][y] \u001b[39m=\u001b[39m \u001b[39mTrue\u001b[39;00m\n\u001b[1;32m     53\u001b[0m \u001b[39mmap\u001b[39m[x][y] \u001b[39m=\u001b[39m island_num\n\u001b[0;32m---> 54\u001b[0m dfs(land_number, \u001b[39mmap\u001b[39m, visited, x, y)\n\u001b[1;32m     56\u001b[0m \u001b[39mif\u001b[39;00m idx \u001b[39m==\u001b[39m k\u001b[39m-\u001b[39m\u001b[39m1\u001b[39m:\n\u001b[1;32m     57\u001b[0m         \u001b[39mprint\u001b[39m(island_num, end\u001b[39m=\u001b[39m\u001b[39m'\u001b[39m\u001b[39m'\u001b[39m)\n",
      "\u001b[0;31mNameError\u001b[0m: name 'land_number' is not defined"
     ]
    }
   ],
   "source": [
    "directions = [[-1, 0], [1, 0], [0, -1], [0, 1]] # 上下左右四个方向\n",
    "\n",
    "def dfs(land_number, map, visited, x, y):\n",
    "    for dir in directions:\n",
    "        nx = x + dir[0]\n",
    "        ny = y + dir[1]\n",
    "\n",
    "        if nx < 0 or nx >= m or ny < 0 or ny >= n:\n",
    "            continue \n",
    "        else:\n",
    "            if map[nx][ny] != 0 and visited[nx][ny] == False:\n",
    "                map[nx][ny] = land_number\n",
    "                visited[nx][ny] = True\n",
    "                dfs(land_number, map, visited, nx, ny)\n",
    "            else:\n",
    "                continue\n",
    "\n",
    "def computeIsland(m, n, k, points):\n",
    "    map = [[0]*n for _ in range(m)]\n",
    "\n",
    "    island_num = 0\n",
    "\n",
    "    land_number = 0\n",
    "\n",
    "    for idx in range(k):\n",
    "        x = points[idx][0]\n",
    "        y = points[idx][1]\n",
    "\n",
    "        if x < 0 or x >= m or y < 0 or y >= n:\n",
    "            if idx == k-1:\n",
    "                print(island_num, end='')\n",
    "            else:\n",
    "                print(island_num, end=' ')\n",
    "            continue\n",
    "        \n",
    "        island_num += 1\n",
    "        land_number += 1\n",
    "\n",
    "        map[x][y] = land_number\n",
    "        visited = [[False]*n for _ in range(m)]\n",
    "        visited[x][y] = True\n",
    "        st = set()\n",
    "        for dir in directions:\n",
    "            # 遍历每个方向\n",
    "            nx = x + dir[0]\n",
    "            ny = y + dir[1]\n",
    "\n",
    "            if nx < 0 or nx >= m or ny < 0 or ny >= n:\n",
    "                continue\n",
    "            else:\n",
    "                if map[nx][ny] != 0 and visited[nx][ny] == False:\n",
    "                    island_num -= 1\n",
    "                    visited[nx][ny] = True\n",
    "                    dfs(land_number, map, visited, nx, ny)\n",
    "                else:\n",
    "                    continue\n",
    "\n",
    "        if idx == k-1:\n",
    "                print(island_num, end='')\n",
    "        else:\n",
    "            print(island_num, end=' ')\n",
    "\n",
    "if __name__ == '__main__':\n",
    "    m = int(input())\n",
    "    n = int(input())\n",
    "\n",
    "    k = int(input())\n",
    "    points = []\n",
    "    for _ in range(k):\n",
    "        point = [int(x) for x in input().split(' ')]\n",
    "        points.append(point)\n",
    "    \n",
    "    computeIsland(m, n, k, points)\n"
   ]
  },
  {
   "cell_type": "code",
   "execution_count": null,
   "metadata": {},
   "outputs": [],
   "source": []
  }
 ],
 "metadata": {
  "kernelspec": {
   "display_name": "Python 3",
   "language": "python",
   "name": "python3"
  },
  "language_info": {
   "codemirror_mode": {
    "name": "ipython",
    "version": 3
   },
   "file_extension": ".py",
   "mimetype": "text/x-python",
   "name": "python",
   "nbconvert_exporter": "python",
   "pygments_lexer": "ipython3",
   "version": "3.9.6"
  },
  "orig_nbformat": 4
 },
 "nbformat": 4,
 "nbformat_minor": 2
}
