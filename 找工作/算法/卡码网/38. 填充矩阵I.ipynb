{
 "cells": [
  {
   "cell_type": "markdown",
   "metadata": {},
   "source": [
    "## [38.填充矩阵Ⅰ（第四期模拟笔试）](https://kamacoder.com/problem.php?id=1038)"
   ]
  },
  {
   "cell_type": "code",
   "execution_count": 6,
   "metadata": {},
   "outputs": [
    {
     "name": "stdout",
     "output_type": "stream",
     "text": [
      "1 1\n",
      "1 2\n",
      "12  11  10  9\n",
      "3  2  1  8\n",
      "4  5  6  7\n"
     ]
    }
   ],
   "source": [
    "'''\n",
    "思路：\n",
    "\n",
    "相比leecode 59.螺旋矩阵II 本题m和n不相等，而59.是正方形，需要考虑的更多一些！\n",
    "\n",
    "首先圈数：每绕一圈长度-2，最多能转 n(行数)//2 圈，（如果奇数，需要特殊处理）\n",
    "其次：循环不变量原则、偏移量、起始数值、数组\n",
    "最后：如果为计数，最后不能构成一圈，要分情况考虑m > n 和 m < n 的情况\n",
    "'''\n",
    "\n",
    "def generateMatrix(n, m):\n",
    "\n",
    "    matrix = [[0]*m for _ in range(n)]\n",
    "\n",
    "    offset = 0\n",
    "\n",
    "    count = n*m\n",
    "\n",
    "    circle_nums = n//2\n",
    "\n",
    "    while circle_nums > 0:\n",
    "        x = offset\n",
    "        y = offset\n",
    "\n",
    "        # 循环不变量, 左闭右开\n",
    "        # 上 \n",
    "        while y < m-1-offset:\n",
    "            matrix[x][y] = count\n",
    "            count -= 1\n",
    "            y += 1\n",
    "        # 右\n",
    "        while x < n-1-offset:\n",
    "            matrix[x][y] = count\n",
    "            count -= 1\n",
    "            x += 1\n",
    "        # 下\n",
    "        while y > 0+offset:\n",
    "            matrix[x][y] = count\n",
    "            count -= 1\n",
    "            y -= 1\n",
    "        # 左\n",
    "        while x > 0+offset:\n",
    "            matrix[x][y] = count\n",
    "            count -= 1\n",
    "            x -= 1\n",
    "\n",
    "        offset += 1\n",
    "        circle_nums -= 1\n",
    "\n",
    "    # 处理为n为计数的情况\n",
    "    # 此时offset已经+1\n",
    "    if n % 2 == 1:\n",
    "        # 情况1:n > m ,也就是一个竖长的矩形，最后还差一竖条没有赋值\n",
    "        x = offset\n",
    "        y = offset\n",
    "        if n > m:\n",
    "            while x < n-offset: # 注意这里不需要-1\n",
    "                matrix[x][y] = count\n",
    "                count -= 1\n",
    "                x += 1\n",
    "        # 情况2:m > n ,也就是一个横条的矩形，最后还差一横条没有赋值\n",
    "        if m > n:\n",
    "            while y < m-offset: # 注意这里不需要-1\n",
    "                print(x, y)\n",
    "                matrix[x][y] = count\n",
    "                count -= 1\n",
    "                y += 1\n",
    "        # 情况3:为正方形，只剩中间一个点\n",
    "        if m == n:\n",
    "            matrix[x][y] = count\n",
    "\n",
    "    return matrix\n",
    "\n",
    "\n",
    "\n",
    "if __name__ == '__main__':\n",
    "    n,m = [int(x) for x in input().split(' ')]\n",
    "\n",
    "    # n行m列\n",
    "\n",
    "    matrix = generateMatrix(n,m)\n",
    "\n",
    "    # 按照要求打印（每行末尾的数字后没有空格）\n",
    "    for line in matrix:\n",
    "        for index, val in enumerate(line):\n",
    "            if index == m-1:\n",
    "                print(val, end='')\n",
    "            else:\n",
    "                print(val, ' ', end='')\n",
    "        print()\n",
    "\n",
    "\n",
    "\n",
    "\n",
    "\n",
    "\n"
   ]
  },
  {
   "cell_type": "markdown",
   "metadata": {},
   "source": [
    "12  11  10  9\n",
    "3  2  1  8\n",
    "4  5  6  7"
   ]
  }
 ],
 "metadata": {
  "kernelspec": {
   "display_name": "Python 3",
   "language": "python",
   "name": "python3"
  },
  "language_info": {
   "codemirror_mode": {
    "name": "ipython",
    "version": 3
   },
   "file_extension": ".py",
   "mimetype": "text/x-python",
   "name": "python",
   "nbconvert_exporter": "python",
   "pygments_lexer": "ipython3",
   "version": "3.9.6"
  },
  "orig_nbformat": 4
 },
 "nbformat": 4,
 "nbformat_minor": 2
}
