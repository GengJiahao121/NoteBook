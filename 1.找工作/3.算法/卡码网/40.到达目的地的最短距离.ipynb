{
 "cells": [
  {
   "cell_type": "markdown",
   "metadata": {},
   "source": [
    "### [40.到达目的地的最短距离](https://kamacoder.com/problem.php?id=1040)"
   ]
  },
  {
   "cell_type": "code",
   "execution_count": 2,
   "metadata": {},
   "outputs": [
    {
     "name": "stdout",
     "output_type": "stream",
     "text": [
      "3\n"
     ]
    }
   ],
   "source": [
    "'''\n",
    "思路：\n",
    "依赖之前位置的状态->动态规划\n",
    "\n",
    "如果x为负数，可以把它先进性绝对值，转化为正数来计算最小步数\n",
    "\n",
    "'''\n",
    "\n",
    "'''\n",
    "动态规划五部曲：\n",
    "1. dp[j]表示到达j位置需要的最小步数\n",
    "2. 去定递推数组：\n",
    "    dp[j] = ?\n",
    "    a. j为2的倍数且j/2不为0 -> dp[j] = dp[j/2] + 1\n",
    "    b. j不为2的倍数 -> dp[j] = max(dp[(j+1)//2] + 2, dp[(j-1)//2] + 2)\n",
    "\n",
    "3. dp[0] = 0, dp[1] = 1\n",
    "4. 确定遍历顺序\n",
    "5. 举例推导\n",
    "'''\n",
    "\n",
    "def computeMinfoots(x):\n",
    "\n",
    "    dp = [0] * (x+1)\n",
    "\n",
    "    dp[0] = 0\n",
    "    dp[1] = 1\n",
    "\n",
    "    for j in range(2, x+1):\n",
    "        if j % 2 == 0:\n",
    "            dp[j] = dp[j//2] + 1\n",
    "        else:\n",
    "            dp[j] = min(dp[(j+1)//2] + 2, dp[(j-1)//2] + 2)\n",
    "     \n",
    "    return dp[-1]\n",
    "\n",
    "if __name__ == '__main__':\n",
    "    x = int(input())\n",
    "\n",
    "    print(computeMinfoots(abs(x)))"
   ]
  },
  {
   "cell_type": "code",
   "execution_count": null,
   "metadata": {},
   "outputs": [],
   "source": []
  }
 ],
 "metadata": {
  "kernelspec": {
   "display_name": "Python 3",
   "language": "python",
   "name": "python3"
  },
  "language_info": {
   "codemirror_mode": {
    "name": "ipython",
    "version": 3
   },
   "file_extension": ".py",
   "mimetype": "text/x-python",
   "name": "python",
   "nbconvert_exporter": "python",
   "pygments_lexer": "ipython3",
   "version": "3.9.6"
  },
  "orig_nbformat": 4
 },
 "nbformat": 4,
 "nbformat_minor": 2
}
